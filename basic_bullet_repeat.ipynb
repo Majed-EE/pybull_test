{
 "cells": [
  {
   "cell_type": "code",
   "execution_count": 2,
   "id": "7d27629c",
   "metadata": {},
   "outputs": [],
   "source": [
    "import pybullet as p\n",
    "import time\n",
    "import pybullet_data\n",
    "# import math\n",
    "import numpy as np\n",
    "import keyboard"
   ]
  },
  {
   "cell_type": "code",
   "execution_count": 7,
   "id": "5e143d97",
   "metadata": {},
   "outputs": [],
   "source": [
    "physicsClient=p.connect(p.DIRECT)\n",
    "# p.setAdditionalSearchVisualizer()\n",
    "p.setAdditionalSearchPath(pybullet_data.getDataPath())\n",
    "p.setGravity(0,0,-9.8) # x,y,z direction\n"
   ]
  },
  {
   "cell_type": "code",
   "execution_count": 13,
   "id": "bea349ea",
   "metadata": {},
   "outputs": [],
   "source": [
    "# define start pose\n",
    "StartPos_cuboid=[1,0,0]\n",
    "StartPos_sphere=[-1,0,0]\n",
    "StartPos_arh=[0,0,0]\n",
    "StartOrientation=p.getQuaternionFromEuler([0,0,0])\n",
    "\n",
    "\n",
    "# urdf and object id\n",
    "planeId=p.loadURDF(\"plane.urdf\")\n",
    "cuboidId=p.loadURDF(r\"models/simple_object/box.urdf\",StartPos_cuboid)\n",
    "sphereId=p.loadURDF(r\"models/simple_object/sphere.urdf\",StartPos_sphere)\n",
    "argID=p.loadURDF(r\"models/end_effector/left.urdf\",StartPos_arh)\n",
    "# armId=p.loadURDF(r\"models/end_effector/arm.urdf\",StartPos_sphere)\n",
    "# ur5Id=p.loadURDF(r\"models/end_effector/left.urdf\")\n",
    "\n"
   ]
  },
  {
   "cell_type": "code",
   "execution_count": 14,
   "id": "1479012e",
   "metadata": {},
   "outputs": [
    {
     "name": "stdout",
     "output_type": "stream",
     "text": [
      "3\n",
      "initial dimension cuboid [0.20000000000000007, 0.08, 0.08]\n"
     ]
    }
   ],
   "source": [
    "# ur5Id=p.loadURDF(r\"left.urdf\")\n",
    "jointsnum=p.getNumJoints(armId)\n",
    "print(jointsnum)\n",
    "# AABB returns a tuple of two points (min and max corners of the AABB)\n",
    "\n",
    "aabb_cuboid = p.getAABB(cuboidId)\n",
    "aabb_sphere = p.getAABB(sphereId)\n",
    "# aabb_min = aabb[0]\n",
    "# aabb_max = aabb[1]\n",
    "threshold = 1e-5\n",
    "# Calculate the dimensions\n",
    "dimension_cuboid = [aabb_cuboid[1][i] - aabb_cuboid[0][i] for i in range(3)]\n",
    "print(f\"initial dimension cuboid {dimension_cuboid}\")\n"
   ]
  },
  {
   "cell_type": "code",
   "execution_count": 15,
   "id": "4d0d1a1c",
   "metadata": {},
   "outputs": [
    {
     "name": "stdout",
     "output_type": "stream",
     "text": [
      "Filtered position (x, y, z): [0, 0, 0.003999199999999974]\n",
      "Filtered orientation (x, y, z): [0, 0, 0, 1.0]\n",
      "Filtered position (x, y, z): [0, 0, 0.007826954833781322]\n",
      "Filtered orientation (x, y, z): [0, 0, 0, 1.0]\n",
      "Filtered position (x, y, z): [0, 0, 0.011483346751279478]\n",
      "Filtered orientation (x, y, z): [0, 0, 0, 1.0]\n",
      "Filtered position (x, y, z): [0, 0, 0.014968455613187229]\n",
      "Filtered orientation (x, y, z): [0, 0, 0, 1.0]\n",
      "Filtered position (x, y, z): [0, 0, 0.018282358895401772]\n",
      "Filtered orientation (x, y, z): [0, 0, 0, 1.0]\n",
      "Filtered position (x, y, z): [0, 0, 0.021425131693337335]\n",
      "Filtered orientation (x, y, z): [0, 0, 0, 1.0]\n",
      "Filtered position (x, y, z): [0, 0, 0.024396846726103847]\n",
      "Filtered orientation (x, y, z): [0, 0, 0, 1.0]\n",
      "Filtered position (x, y, z): [0, 0, 0.027197574340552203]\n",
      "Filtered orientation (x, y, z): [0, 0, 0, 1.0]\n",
      "Filtered position (x, y, z): [0, 0, 0.029827382515186563]\n",
      "Filtered orientation (x, y, z): [0, 0, 0, 1.0]\n",
      "Filtered position (x, y, z): [0, 0, 0.03228633686394416]\n",
      "Filtered orientation (x, y, z): [0, 0, 0, 1.0]\n"
     ]
    }
   ],
   "source": [
    "for _ in range(10):\n",
    "    p.stepSimulation()\n",
    "    time.sleep(1./24.)\n",
    "    \n",
    "    position, orientation = p.getBasePositionAndOrientation(sphereId)\n",
    "    # print(position,orientation)\n",
    "    dimension_cuboid = [aabb_cuboid[1][i] - aabb_cuboid[0][i] for i in range(3)]\n",
    "    # print(f\"initial dimension cuboid {dimension_cuboid}\")\n",
    "    filtered_position = list(dim if dim > threshold else 0 for dim in position)\n",
    "    print(f\"Filtered position (x, y, z): {filtered_position}\")\n",
    "    filtered_orientation = list(dim if dim > threshold else 0 for dim in orientation)\n",
    "    print(f\"Filtered orientation (x, y, z): {filtered_orientation}\")\n",
    "\n",
    "# # Get the position and orientation of the robot\n",
    "position, orientation = p.getBasePositionAndOrientation(sphereId)"
   ]
  },
  {
   "cell_type": "code",
   "execution_count": null,
   "id": "fbb6869b",
   "metadata": {},
   "outputs": [],
   "source": [
    "\n"
   ]
  },
  {
   "cell_type": "code",
   "execution_count": 11,
   "id": "29035f68",
   "metadata": {},
   "outputs": [
    {
     "name": "stdout",
     "output_type": "stream",
     "text": [
      "(0.0, 0.0, 0.0) (0.0, 0.0, 0.0, 1.0)\n"
     ]
    }
   ],
   "source": [
    "print(position,orientation)"
   ]
  },
  {
   "cell_type": "code",
   "execution_count": null,
   "id": "925c122d",
   "metadata": {},
   "outputs": [],
   "source": []
  }
 ],
 "metadata": {
  "kernelspec": {
   "display_name": "Python 3",
   "language": "python",
   "name": "python3"
  },
  "language_info": {
   "codemirror_mode": {
    "name": "ipython",
    "version": 3
   },
   "file_extension": ".py",
   "mimetype": "text/x-python",
   "name": "python",
   "nbconvert_exporter": "python",
   "pygments_lexer": "ipython3",
   "version": "3.8.10"
  }
 },
 "nbformat": 4,
 "nbformat_minor": 5
}
