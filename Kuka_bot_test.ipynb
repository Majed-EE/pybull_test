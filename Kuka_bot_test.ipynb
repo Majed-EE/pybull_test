{
 "cells": [
  {
   "cell_type": "code",
   "execution_count": 24,
   "id": "9fd52716",
   "metadata": {},
   "outputs": [],
   "source": [
    "import numpy as np\n",
    "import pybullet as p\n",
    "import time\n",
    "import pybullet_data\n",
    "import inspect\n",
    "#from sensor_msgs.msg import JointState\n",
    "import threading\n",
    "import datetime\n",
    "import csv"
   ]
  },
  {
   "cell_type": "code",
   "execution_count": 25,
   "id": "5f0e7dbe",
   "metadata": {},
   "outputs": [],
   "source": [
    "FILENAME = 'TRACE_NOSLIP.csv'\n",
    "TRACE_HEADER = ['Event','Timestamp','J0_position', 'J0_velocity', 'J0_Fx', 'J0_Fy', 'J0_Fz', 'J0_Mx', 'J0_My', 'J0_Mz', 'J0_torque', 'J1_position', 'J1_velocity', 'J1_Fx', 'J1_Fy', 'J1_Fz', 'J1_Mx', 'J1_My', 'J1_Mz', 'J1_torque', 'J2_position', 'J2_velocity', 'J2_Fx', 'J2_Fy', 'J2_Fz', 'J2_Mx', 'J2_My', 'J2_Mz', 'J2_torque', 'J3_position', 'J3_velocity', 'J3_Fx', 'J3_Fy', 'J3_Fz', 'J3_Mx', 'J3_My', 'J3_Mz', 'J3_torque', 'J4_position', 'J4_velocity', 'J4_Fx', 'J4_Fy', 'J4_Fz', 'J4_Mx', 'J4_My', 'J4_Mz', 'J4_torque', 'J5_position', 'J5_velocity', 'J5_Fx', 'J5_Fy', 'J5_Fz', 'J5_Mx', 'J5_My', 'J5_Mz', 'J5_torque', 'J6_position', 'J6_velocity', 'J6_Fx', 'J6_Fy', 'J6_Fz', 'J6_Mx', 'J6_My', 'J6_Mz', 'J6_torque', 'J7_position', 'J7_velocity', 'J7_Fx', 'J7_Fy', 'J7_Fz', 'J7_Mx', 'J7_My', 'J7_Mz', 'J7_torque', 'J8_position', 'J8_velocity', 'J8_Fx', 'J8_Fy', 'J8_Fz', 'J8_Mx', 'J8_My', 'J8_Mz', 'J8_torque', 'J9_position', 'J9_velocity', 'J9_Fx', 'J9_Fy', 'J9_Fz', 'J9_Mx', 'J9_My', 'J9_Mz', 'J9_torque', 'J10_position', 'J10_velocity', 'J10_Fx', 'J10_Fy', 'J10_Fz', 'J10_Mx', 'J10_My', 'J10_Mz', 'J10_torque', 'J11_position', 'J11_velocity', 'J11_Fx', 'J11_Fy', 'J11_Fz', 'J11_Mx', 'J11_My', 'J11_Mz', 'J11_torque', 'J12_position', 'J12_velocity', 'J12_Fx', 'J12_Fy', 'J12_Fz', 'J12_Mx', 'J12_My', 'J12_Mz', 'J12_torque', 'J13_position', 'J13_velocity', 'J13_Fx', 'J13_Fy', 'J13_Fz', 'J13_Mx', 'J13_My', 'J13_Mz', 'J13_torque', 'J14_position', 'J14_velocity', 'J14_Fx', 'J14_Fy', 'J14_Fz', 'J14_Mx', 'J14_My', 'J14_Mz', 'J14_torque', 'J15_position', 'J15_velocity', 'J15_Fx', 'J15_Fy', 'J15_Fz', 'J15_Mx', 'J15_My', 'J15_Mz', 'J15_torque', 'J16_position', 'J16_velocity', 'J16_Fx', 'J16_Fy', 'J16_Fz', 'J16_Mx', 'J16_My', 'J16_Mz', 'J16_torque', 'J17_position', 'J17_velocity', 'J17_Fx', 'J17_Fy', 'J17_Fz', 'J17_Mx', 'J17_My', 'J17_Mz', 'J17_torque', 'J18_position', 'J18_velocity', 'J18_Fx', 'J18_Fy', 'J18_Fz', 'J18_Mx', 'J18_My', 'J18_Mz', 'J18_torque', 'J19_position', 'J19_velocity', 'J19_Fx', 'J19_Fy', 'J19_Fz', 'J19_Mx', 'J19_My', 'J19_Mz', 'J19_torque' ]\n",
    "def save_to_csv(FILENAME, TRACE_CSV, type_open='a'):    \n",
    "    with open(FILENAME,type_open,newline=\"\") as trace_file:\n",
    "        writer = csv.writer(trace_file, )\n",
    "        writer.writerow(TRACE_CSV)\n",
    "save_to_csv(FILENAME, TRACE_HEADER, 'w')\n",
    "\n",
    "\n",
    "clid = p.connect(p.SHARED_MEMORY)\n",
    "if (clid < 0):\n",
    "    physicsClient = p.connect(p.DIRECT)\n",
    "\n",
    "p.resetSimulation(p.RESET_USE_DEFORMABLE_WORLD)\n",
    "\n",
    "p.setAdditionalSearchPath(pybullet_data.getDataPath())  # optionally\n",
    "\n"
   ]
  },
  {
   "cell_type": "code",
   "execution_count": 26,
   "id": "b91fdfa7",
   "metadata": {},
   "outputs": [],
   "source": [
    "def get_joint_states(robot, numJoints):\n",
    "    DATUM = []\n",
    "    joint_states = p.getJointStates(robot,range(numJoints),physicsClientId=physicsClient)   #0 to 20::: 4 are fixed\n",
    "    for j in joint_states:\n",
    "        for quadruple, k in enumerate(j): # index and value in j-->>ex [a,b,c] quadrupe=0, k=a so on and so forth\n",
    "            if quadruple == 2: # likely jointReactionForces\n",
    "                for l in k:\n",
    "                    DATUM.append(l)\n",
    "            else:\n",
    "                DATUM.append(k)\n",
    "    return DATUM\n",
    "\n",
    "def get_joint_angles(robot, numJoints):\n",
    "    DATUM=[]\n",
    "    joint_states = p.getJointStates(robot,range(numJoints),physicsClientId=physicsClient)   #0 to 20::: 4 are fixed\n",
    "    for j in joint_states:\n",
    "        for quadruple, k in enumerate(j):\n",
    "            if quadruple ==1 : #Just the joint angle (or velocity?)\n",
    "                DATUM.append(k)\n",
    "    return DATUM\n",
    "\n",
    "def get_joint_states_hand_only(robot, numJoints):\n",
    "    DATUM = []\n",
    "    joint_states = p.getJointStates(robot,range(numJoints),physicsClientId=physicsClient)   #0 to 20::: 4 are fixed\n",
    "    for jno, j in enumerate(joint_states):\n",
    "        if jno in [16,17,18,19,20, 25,26,27,28,29, 34,35,36,37,38, 43,44,45,46,47]:  # what is this about (may be for kuka bot)? \n",
    "            #print(jno)\n",
    "            for quadruple, k in enumerate(j):\n",
    "                if quadruple == 2:\n",
    "                    for l in k:\n",
    "                        DATUM.append(l)\n",
    "                else:\n",
    "                    DATUM.append(k)\n",
    "    return DATUM\n",
    "\n",
    "\n"
   ]
  },
  {
   "cell_type": "code",
   "execution_count": 27,
   "id": "9f281403",
   "metadata": {},
   "outputs": [],
   "source": [
    "planeId = p.loadURDF(\"plane.urdf\")\n",
    "kuka_allegro_hand_biotac = p.loadURDF(\"ll4ma_robots_description/robots/kuka-allegro-biotac.urdf\")\n",
    "for j in range(53):\n",
    "    p.enableJointForceTorqueSensor(kuka_allegro_hand_biotac, j, enableSensor=1)\n"
   ]
  },
  {
   "cell_type": "code",
   "execution_count": 28,
   "id": "f2cf1c1c",
   "metadata": {},
   "outputs": [],
   "source": [
    "\n",
    "\n",
    "numJoints = p.getNumJoints(kuka_allegro_hand_biotac)"
   ]
  },
  {
   "cell_type": "code",
   "execution_count": 29,
   "id": "a30cc576",
   "metadata": {},
   "outputs": [
    {
     "name": "stdout",
     "output_type": "stream",
     "text": [
      "53\n"
     ]
    }
   ],
   "source": [
    "\n",
    "print(numJoints)"
   ]
  },
  {
   "cell_type": "code",
   "execution_count": 30,
   "id": "6fd40958",
   "metadata": {},
   "outputs": [],
   "source": [
    "p.setRealTimeSimulation(1)"
   ]
  },
  {
   "cell_type": "code",
   "execution_count": 31,
   "id": "ff28ef3b",
   "metadata": {},
   "outputs": [],
   "source": [
    "from datetime import datetime\n",
    "p.setGravity(0,0,-9.8)\n",
    "\n",
    "\n",
    "#reset\n",
    "p.changeDynamics(kuka_allegro_hand_biotac,-1, lateralFriction=0.5)\n",
    "p.changeDynamics(kuka_allegro_hand_biotac,-1, rollingFriction=0.5)\n",
    "joint_cmd = [0 for _ in range(53)]\n",
    "p.setJointMotorControlArray(kuka_allegro_hand_biotac, range(53), p.POSITION_CONTROL,  targetPositions=joint_cmd)\n",
    "#RECORD 1ST FROM HERE\n",
    "time.sleep(5)\n",
    "# save_to_csv(FILENAME,['RESET_POSITION',datetime.now().time() ]+get_joint_states_hand_only( kuka_allegro_hand_biotac, numJoints),'a')\n",
    "\n"
   ]
  },
  {
   "cell_type": "code",
   "execution_count": 33,
   "id": "7b6ac5e1",
   "metadata": {},
   "outputs": [],
   "source": [
    "time.sleep(5)\n",
    "for _ in range(100):\n",
    "    pass\n",
    "#     save_to_csv(FILENAME,['STEADY_AFTER_ACHIEVING_RESET_POSITION',datetime.datetime.now().time() ]+get_joint_states_hand_only( kuka_allegro_hand_biotac, numJoints),'a')\n"
   ]
  },
  {
   "cell_type": "code",
   "execution_count": 34,
   "id": "141f27a2",
   "metadata": {},
   "outputs": [],
   "source": [
    "cube_big = p.loadSoftBody(\"ball.obj\", simFileName = \"ball.vtk\", basePosition =  [-1.03,-0.03, 0.5], scale = 0.5, mass = 4, useNeoHookean = 1 , NeoHookeanMu = 700, NeoHookeanLambda = 800, NeoHookeanDamping = 0.01, useSelfCollision = 1, frictionCoeff = .5, collisionMargin = 0.01)\n",
    "p.setTimeStep(1/240.)\n",
    "p.changeDynamics(cube_big,-1, lateralFriction=0.5)"
   ]
  },
  {
   "cell_type": "code",
   "execution_count": 35,
   "id": "d3fc57a3",
   "metadata": {},
   "outputs": [],
   "source": [
    "for i in range(15+1):\n",
    "    joint_cmd[5] = -i *np.pi/180\n",
    "    p.setJointMotorControlArray(kuka_allegro_hand_biotac, range(53), p.POSITION_CONTROL,  targetPositions=joint_cmd)\n",
    "    time.sleep(1/20.)\n",
    "\n",
    "for i in range(12+1):\n",
    "    joint_cmd[7] = -i *np.pi/180\n",
    "    p.setJointMotorControlArray(kuka_allegro_hand_biotac, range(53), p.POSITION_CONTROL,  targetPositions=joint_cmd)\n",
    "\n",
    "for i in range(90+1):\n",
    "    joint_cmd[3] = i *np.pi/180\n",
    "    p.setJointMotorControlArray(kuka_allegro_hand_biotac, range(53), p.POSITION_CONTROL,  targetPositions=joint_cmd)\n",
    "    time.sleep(1/20.)\n",
    "\n",
    "    "
   ]
  },
  {
   "cell_type": "code",
   "execution_count": 21,
   "id": "2c32b4d0",
   "metadata": {},
   "outputs": [
    {
     "ename": "error",
     "evalue": "getJointState failed.",
     "output_type": "error",
     "traceback": [
      "\u001b[1;31m---------------------------------------------------------------------------\u001b[0m",
      "\u001b[1;31merror\u001b[0m                                     Traceback (most recent call last)",
      "Cell \u001b[1;32mIn [21], line 1\u001b[0m\n\u001b[1;32m----> 1\u001b[0m save_to_csv(FILENAME,[\u001b[38;5;124m'\u001b[39m\u001b[38;5;124mINITIALIZE_REACHING\u001b[39m\u001b[38;5;124m'\u001b[39m,datetime\u001b[38;5;241m.\u001b[39mdatetime\u001b[38;5;241m.\u001b[39mnow()\u001b[38;5;241m.\u001b[39mtime() ]\u001b[38;5;241m+\u001b[39m\u001b[43mget_joint_states_hand_only\u001b[49m\u001b[43m(\u001b[49m\u001b[43m \u001b[49m\u001b[43mkuka_allegro_hand_biotac\u001b[49m\u001b[43m,\u001b[49m\u001b[43m \u001b[49m\u001b[43mnumJoints\u001b[49m\u001b[43m)\u001b[49m,\u001b[38;5;124m'\u001b[39m\u001b[38;5;124ma\u001b[39m\u001b[38;5;124m'\u001b[39m)\n\u001b[0;32m      4\u001b[0m \u001b[38;5;28;01mfor\u001b[39;00m i \u001b[38;5;129;01min\u001b[39;00m \u001b[38;5;28mrange\u001b[39m(\u001b[38;5;241m15\u001b[39m\u001b[38;5;241m+\u001b[39m\u001b[38;5;241m1\u001b[39m):\n\u001b[0;32m      5\u001b[0m     joint_cmd[\u001b[38;5;241m5\u001b[39m] \u001b[38;5;241m=\u001b[39m \u001b[38;5;241m-\u001b[39mi \u001b[38;5;241m*\u001b[39mnp\u001b[38;5;241m.\u001b[39mpi\u001b[38;5;241m/\u001b[39m\u001b[38;5;241m180\u001b[39m\n",
      "Cell \u001b[1;32mIn [5], line 24\u001b[0m, in \u001b[0;36mget_joint_states_hand_only\u001b[1;34m(robot, numJoints)\u001b[0m\n\u001b[0;32m     22\u001b[0m \u001b[38;5;28;01mdef\u001b[39;00m \u001b[38;5;21mget_joint_states_hand_only\u001b[39m(robot, numJoints):\n\u001b[0;32m     23\u001b[0m     DATUM \u001b[38;5;241m=\u001b[39m []\n\u001b[1;32m---> 24\u001b[0m     joint_states \u001b[38;5;241m=\u001b[39m \u001b[43mp\u001b[49m\u001b[38;5;241;43m.\u001b[39;49m\u001b[43mgetJointStates\u001b[49m\u001b[43m(\u001b[49m\u001b[43mrobot\u001b[49m\u001b[43m,\u001b[49m\u001b[38;5;28;43mrange\u001b[39;49m\u001b[43m(\u001b[49m\u001b[43mnumJoints\u001b[49m\u001b[43m)\u001b[49m\u001b[43m,\u001b[49m\u001b[43mphysicsClientId\u001b[49m\u001b[38;5;241;43m=\u001b[39;49m\u001b[43mphysicsClient\u001b[49m\u001b[43m)\u001b[49m   \u001b[38;5;66;03m#0 to 20::: 4 are fixed\u001b[39;00m\n\u001b[0;32m     25\u001b[0m     \u001b[38;5;28;01mfor\u001b[39;00m jno, j \u001b[38;5;129;01min\u001b[39;00m \u001b[38;5;28menumerate\u001b[39m(joint_states):\n\u001b[0;32m     26\u001b[0m         \u001b[38;5;28;01mif\u001b[39;00m jno \u001b[38;5;129;01min\u001b[39;00m [\u001b[38;5;241m16\u001b[39m,\u001b[38;5;241m17\u001b[39m,\u001b[38;5;241m18\u001b[39m,\u001b[38;5;241m19\u001b[39m,\u001b[38;5;241m20\u001b[39m, \u001b[38;5;241m25\u001b[39m,\u001b[38;5;241m26\u001b[39m,\u001b[38;5;241m27\u001b[39m,\u001b[38;5;241m28\u001b[39m,\u001b[38;5;241m29\u001b[39m, \u001b[38;5;241m34\u001b[39m,\u001b[38;5;241m35\u001b[39m,\u001b[38;5;241m36\u001b[39m,\u001b[38;5;241m37\u001b[39m,\u001b[38;5;241m38\u001b[39m, \u001b[38;5;241m43\u001b[39m,\u001b[38;5;241m44\u001b[39m,\u001b[38;5;241m45\u001b[39m,\u001b[38;5;241m46\u001b[39m,\u001b[38;5;241m47\u001b[39m]:  \u001b[38;5;66;03m# what is this about ?\u001b[39;00m\n\u001b[0;32m     27\u001b[0m             \u001b[38;5;66;03m#print(jno)\u001b[39;00m\n",
      "\u001b[1;31merror\u001b[0m: getJointState failed."
     ]
    }
   ],
   "source": [
    "\n",
    "\n",
    "save_to_csv(FILENAME,['INITIALIZE_REACHING',datetime.datetime.now().time() ]+get_joint_states_hand_only( kuka_allegro_hand_biotac, numJoints),'a')\n",
    "\n",
    "\n",
    "for i in range(15+1):\n",
    "    joint_cmd[5] = -i *np.pi/180\n",
    "    p.setJointMotorControlArray(kuka_allegro_hand_biotac, range(53), p.POSITION_CONTROL,  targetPositions=joint_cmd)\n",
    "    time.sleep(1/20.)\n",
    "\n",
    "for i in range(12+1):\n",
    "    joint_cmd[7] = -i *np.pi/180\n",
    "    p.setJointMotorControlArray(kuka_allegro_hand_biotac, range(53), p.POSITION_CONTROL,  targetPositions=joint_cmd)\n",
    "\n",
    "for i in range(90+1):\n",
    "    joint_cmd[3] = i *np.pi/180\n",
    "    p.setJointMotorControlArray(kuka_allegro_hand_biotac, range(53), p.POSITION_CONTROL,  targetPositions=joint_cmd)\n",
    "    time.sleep(1/20.)\n",
    "\n",
    "    \n",
    "save_to_csv(FILENAME,['FINISHED_REACHING',datetime.now().time() ]+get_joint_states_hand_only( kuka_allegro_hand_biotac, numJoints),'a')\n",
    "\n",
    "\n",
    "    \n",
    "\n",
    "save_to_csv(FILENAME,['INITIALIZE_GRASPING',datetime.now().time() ]+get_joint_states_hand_only( kuka_allegro_hand_biotac, numJoints),'a')\n",
    "\n",
    "#THUMB\n",
    "joint_cmd[43]= 90 * np.pi/180\n",
    "joint_cmd[45]= 5 * np.pi/180\n",
    "joint_cmd[46]= 10 * np.pi/180\n",
    "\n",
    "#INDEX_UNGERS\n",
    "joint_cmd[17]= 40 * np.pi/180    \n",
    "joint_cmd[18]= 40 * np.pi/180    \n",
    "joint_cmd[19]= 20 * np.pi/180 \n",
    "#joint_cmd[19]= 5 * np.pi/180 \n",
    "\n",
    "\n",
    "# MIDDLE_FINGER\n",
    "joint_cmd[26]= 40 * np.pi/180\n",
    "joint_cmd[27]= 40 * np.pi/180\n",
    "joint_cmd[28]= 20 * np.pi/180 \n",
    "#joint_cmd[28]= 5 * np.pi/180\n",
    "\n",
    "\n",
    "\n",
    "# PINKY FINGER\n",
    "joint_cmd[35]= 40 * np.pi/180\n",
    "joint_cmd[36]= 40 * np.pi/180\n",
    "joint_cmd[37]= 20 * np.pi/180"
   ]
  },
  {
   "cell_type": "code",
   "execution_count": 36,
   "id": "970de9a6",
   "metadata": {},
   "outputs": [],
   "source": [
    "\n",
    "#THUMB\n",
    "joint_cmd[43]= 90 * np.pi/180\n",
    "joint_cmd[45]= 5 * np.pi/180\n",
    "joint_cmd[46]= 10 * np.pi/180\n",
    "\n",
    "#INDEX_UNGERS\n",
    "joint_cmd[17]= 40 * np.pi/180    \n",
    "joint_cmd[18]= 40 * np.pi/180    \n",
    "joint_cmd[19]= 20 * np.pi/180 \n",
    "#joint_cmd[19]= 5 * np.pi/180 \n",
    "\n",
    "\n",
    "# MIDDLE_FINGER\n",
    "joint_cmd[26]= 40 * np.pi/180\n",
    "joint_cmd[27]= 40 * np.pi/180\n",
    "joint_cmd[28]= 20 * np.pi/180 \n",
    "#joint_cmd[28]= 5 * np.pi/180\n",
    "\n",
    "\n",
    "\n",
    "# PINKY FINGER\n",
    "joint_cmd[35]= 40 * np.pi/180\n",
    "joint_cmd[36]= 40 * np.pi/180\n",
    "joint_cmd[37]= 20 * np.pi/180"
   ]
  },
  {
   "cell_type": "code",
   "execution_count": 37,
   "id": "11719f65",
   "metadata": {},
   "outputs": [],
   "source": [
    "\n",
    "p.setJointMotorControlArray(kuka_allegro_hand_biotac, range(53), p.POSITION_CONTROL,  targetPositions=joint_cmd)\n",
    "time.sleep(1/20.)\n",
    "# save_to_csv(FILENAME,['FINISHED_GRASPING',datetime.now().time() ]+get_joint_states_hand_only( kuka_allegro_hand_biotac, numJoints),'a')\n",
    "time.sleep(5)\n",
    "\n",
    "\n",
    "for _ in range(100):\n",
    "    save_to_csv(FILENAME,['STEADY_AFTER_FINISHED_GRASPING',datetime.now().time() ]+get_joint_states_hand_only( kuka_allegro_hand_biotac, numJoints),'a')\n",
    "\n"
   ]
  },
  {
   "cell_type": "code",
   "execution_count": 38,
   "id": "7f2a25fd",
   "metadata": {},
   "outputs": [
    {
     "data": {
      "text/plain": [
       "'    \\nfor i in range(15+1):\\n    joint_cmd[7] = -i *np.pi/180\\n    p.setJointMotorControlArray(kuka_allegro_hand_biotac, range(53), p.POSITION_CONTROL,  targetPositions=joint_cmd)\\n    \\nfor i in range(15+1):\\n    joint_cmd[5] = -i *np.pi/180\\n    p.setJointMotorControlArray(kuka_allegro_hand_biotac, range(53), p.POSITION_CONTROL,  targetPositions=joint_cmd)\\n\\nfor i in range(90+1):\\n    joint_cmd[3] = i *np.pi/180\\n    p.setJointMotorControlArray(kuka_allegro_hand_biotac, range(53), p.POSITION_CONTROL,  targetPositions=joint_cmd)\\n\\n'"
      ]
     },
     "execution_count": 38,
     "metadata": {},
     "output_type": "execute_result"
    }
   ],
   "source": [
    "\n",
    "\n",
    "\n",
    "# PICKUP\n",
    "angles = get_joint_angles(kuka_allegro_hand_biotac,53)\n",
    "\n",
    "T = 100\n",
    "delta = 0.01\n",
    "t=0\n",
    "save_to_csv(FILENAME,['INITIALIZE_PICKUP',datetime.now().time() ]+get_joint_states_hand_only( kuka_allegro_hand_biotac, numJoints),'a')\n",
    "grav = 0\n",
    "\n",
    "save_to_csv(\"trajectory_cube.csv\",[\"Timestamp\",\"Pos_Xaxis\",\"Pos_Yaxis\",\"Pos_Zaxis\",\"Or_Xaxis\",\"Or_Yaxis\",\"Or_Zaxis\"], \"w\")\n",
    "\n",
    "while t < T:\n",
    "    cubePos, cubeOrn= p.getBasePositionAndOrientation(cube_big)\n",
    "    #print(cubePos, cubeOrn)\n",
    "    x_time = datetime.now().time()\n",
    "    joint_cmd[3] = joint_cmd[3] - delta\n",
    "    joint_cmd[5] = joint_cmd[5] - delta\n",
    "    \n",
    "    ## joint based\n",
    "    #joint_cmd[7] = joint_cmd[7] + delta\n",
    "    #joint_cmd[46] = joint_cmd [46] - 0.1* delta\n",
    "    #joint_cmd[19] = joint_cmd[19] - 10*delta\n",
    "    #NO SLIPPINMG\n",
    "    #joint_cmd[28] = joint_cmd[19] - 0.099*delta\n",
    "\n",
    "    \n",
    "\n",
    "    # mouse based\n",
    "\n",
    "    p.setJointMotorControlArray(kuka_allegro_hand_biotac, range(53), p.POSITION_CONTROL,  targetPositions=joint_cmd)\n",
    "    time.sleep(1/50.)\n",
    "    save_to_csv(\"trajectory_cube_noslip.csv\",[x_time,cubePos[0],cubePos[1],cubePos[2],cubeOrn[0],cubeOrn[1],cubeOrn[2]])\n",
    "    save_to_csv(FILENAME,['PICKUP_IN_PROGRESS',x_time ]+get_joint_states_hand_only( kuka_allegro_hand_biotac, numJoints),'a')\n",
    "    t += 1\n",
    "    \n",
    "\n",
    "\n",
    "save_to_csv(FILENAME,['END',datetime.now().time() ]+get_joint_states_hand_only( kuka_allegro_hand_biotac, numJoints),'a')\n",
    "\n",
    "    \n",
    "\"\"\"    \n",
    "for i in range(15+1):\n",
    "    joint_cmd[7] = -i *np.pi/180\n",
    "    p.setJointMotorControlArray(kuka_allegro_hand_biotac, range(53), p.POSITION_CONTROL,  targetPositions=joint_cmd)\n",
    "    \n",
    "for i in range(15+1):\n",
    "    joint_cmd[5] = -i *np.pi/180\n",
    "    p.setJointMotorControlArray(kuka_allegro_hand_biotac, range(53), p.POSITION_CONTROL,  targetPositions=joint_cmd)\n",
    "\n",
    "for i in range(90+1):\n",
    "    joint_cmd[3] = i *np.pi/180\n",
    "    p.setJointMotorControlArray(kuka_allegro_hand_biotac, range(53), p.POSITION_CONTROL,  targetPositions=joint_cmd)\n",
    "\n",
    "\"\"\""
   ]
  },
  {
   "cell_type": "code",
   "execution_count": null,
   "id": "4a268a62",
   "metadata": {},
   "outputs": [],
   "source": []
  }
 ],
 "metadata": {
  "kernelspec": {
   "display_name": "Python 3 (ipykernel)",
   "language": "python",
   "name": "python3"
  },
  "language_info": {
   "codemirror_mode": {
    "name": "ipython",
    "version": 3
   },
   "file_extension": ".py",
   "mimetype": "text/x-python",
   "name": "python",
   "nbconvert_exporter": "python",
   "pygments_lexer": "ipython3",
   "version": "3.10.8"
  }
 },
 "nbformat": 4,
 "nbformat_minor": 5
}
