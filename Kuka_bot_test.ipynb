{
 "cells": [
  {
   "cell_type": "code",
   "execution_count": 1,
   "id": "4f6502b7",
   "metadata": {},
   "outputs": [],
   "source": [
    "import numpy as np\n",
    "import pybullet as p\n",
    "import time\n",
    "import pybullet_data\n",
    "import inspect\n",
    "#from sensor_msgs.msg import JointState\n",
    "import threading\n",
    "import datetime\n",
    "import csv"
   ]
  },
  {
   "cell_type": "code",
   "execution_count": 18,
   "id": "eccf152d",
   "metadata": {},
   "outputs": [
    {
     "name": "stdout",
     "output_type": "stream",
     "text": [
      "saved csv file TRACE_NOSLIP.csv for EVENT Event\n",
      "-1\n"
     ]
    }
   ],
   "source": [
    "FILENAME = 'TRACE_NOSLIP.csv'\n",
    "TRACE_HEADER = ['Event','Timestamp','J0_position', 'J0_velocity', 'J0_Fx', 'J0_Fy', 'J0_Fz', 'J0_Mx', 'J0_My', 'J0_Mz', 'J0_torque', 'J1_position', 'J1_velocity', 'J1_Fx', 'J1_Fy', 'J1_Fz', 'J1_Mx', 'J1_My', 'J1_Mz', 'J1_torque', 'J2_position', 'J2_velocity', 'J2_Fx', 'J2_Fy', 'J2_Fz', 'J2_Mx', 'J2_My', 'J2_Mz', 'J2_torque', 'J3_position', 'J3_velocity', 'J3_Fx', 'J3_Fy', 'J3_Fz', 'J3_Mx', 'J3_My', 'J3_Mz', 'J3_torque', 'J4_position', 'J4_velocity', 'J4_Fx', 'J4_Fy', 'J4_Fz', 'J4_Mx', 'J4_My', 'J4_Mz', 'J4_torque', 'J5_position', 'J5_velocity', 'J5_Fx', 'J5_Fy', 'J5_Fz', 'J5_Mx', 'J5_My', 'J5_Mz', 'J5_torque', 'J6_position', 'J6_velocity', 'J6_Fx', 'J6_Fy', 'J6_Fz', 'J6_Mx', 'J6_My', 'J6_Mz', 'J6_torque', 'J7_position', 'J7_velocity', 'J7_Fx', 'J7_Fy', 'J7_Fz', 'J7_Mx', 'J7_My', 'J7_Mz', 'J7_torque', 'J8_position', 'J8_velocity', 'J8_Fx', 'J8_Fy', 'J8_Fz', 'J8_Mx', 'J8_My', 'J8_Mz', 'J8_torque', 'J9_position', 'J9_velocity', 'J9_Fx', 'J9_Fy', 'J9_Fz', 'J9_Mx', 'J9_My', 'J9_Mz', 'J9_torque', 'J10_position', 'J10_velocity', 'J10_Fx', 'J10_Fy', 'J10_Fz', 'J10_Mx', 'J10_My', 'J10_Mz', 'J10_torque', 'J11_position', 'J11_velocity', 'J11_Fx', 'J11_Fy', 'J11_Fz', 'J11_Mx', 'J11_My', 'J11_Mz', 'J11_torque', 'J12_position', 'J12_velocity', 'J12_Fx', 'J12_Fy', 'J12_Fz', 'J12_Mx', 'J12_My', 'J12_Mz', 'J12_torque', 'J13_position', 'J13_velocity', 'J13_Fx', 'J13_Fy', 'J13_Fz', 'J13_Mx', 'J13_My', 'J13_Mz', 'J13_torque', 'J14_position', 'J14_velocity', 'J14_Fx', 'J14_Fy', 'J14_Fz', 'J14_Mx', 'J14_My', 'J14_Mz', 'J14_torque', 'J15_position', 'J15_velocity', 'J15_Fx', 'J15_Fy', 'J15_Fz', 'J15_Mx', 'J15_My', 'J15_Mz', 'J15_torque', 'J16_position', 'J16_velocity', 'J16_Fx', 'J16_Fy', 'J16_Fz', 'J16_Mx', 'J16_My', 'J16_Mz', 'J16_torque', 'J17_position', 'J17_velocity', 'J17_Fx', 'J17_Fy', 'J17_Fz', 'J17_Mx', 'J17_My', 'J17_Mz', 'J17_torque', 'J18_position', 'J18_velocity', 'J18_Fx', 'J18_Fy', 'J18_Fz', 'J18_Mx', 'J18_My', 'J18_Mz', 'J18_torque', 'J19_position', 'J19_velocity', 'J19_Fx', 'J19_Fy', 'J19_Fz', 'J19_Mx', 'J19_My', 'J19_Mz', 'J19_torque' ]\n",
    "def save_to_csv(FILENAME, TRACE_CSV, type_open='a'):    \n",
    "    with open(FILENAME,type_open,newline=\"\") as trace_file:\n",
    "        writer = csv.writer(trace_file, )\n",
    "        writer.writerow(TRACE_CSV)\n",
    "    print(f\"saved csv file {FILENAME} for EVENT {TRACE_CSV[0]}\")\n",
    "#     print(f\"tracefile {TRACE_CSV}\")\n",
    "save_to_csv(FILENAME, TRACE_HEADER, 'w')\n",
    "\n",
    "\n",
    "clid = p.connect(p.SHARED_MEMORY)\n",
    "print(clid)\n",
    "if (clid < 0):\n",
    "    physicsClient = p.connect(p.DIRECT)\n",
    "\n",
    "p.resetSimulation(p.RESET_USE_DEFORMABLE_WORLD)\n",
    "\n",
    "p.setAdditionalSearchPath(pybullet_data.getDataPath())  # optionally\n",
    "\n"
   ]
  },
  {
   "cell_type": "code",
   "execution_count": 7,
   "id": "a7fc50ed",
   "metadata": {},
   "outputs": [],
   "source": [
    "def get_joint_states(robot, numJoints):\n",
    "    DATUM = []\n",
    "    joint_states = p.getJointStates(robot,range(numJoints),physicsClientId=physicsClient)   #0 to 20::: 4 are fixed\n",
    "    for j in joint_states:\n",
    "        for quadruple, k in enumerate(j): # index and value in j-->>ex [a,b,c] quadrupe=0, k=a so on and so forth\n",
    "            if quadruple == 2: # likely jointReactionForces\n",
    "                for l in k:\n",
    "                    DATUM.append(l)\n",
    "            else:\n",
    "                DATUM.append(k)\n",
    "    return DATUM\n",
    "\n",
    "def get_joint_angles(robot, numJoints):\n",
    "    DATUM=[]\n",
    "    joint_states = p.getJointStates(robot,range(numJoints),physicsClientId=physicsClient)   #0 to 20::: 4 are fixed\n",
    "    for j in joint_states:\n",
    "        for quadruple, k in enumerate(j):\n",
    "            if quadruple ==1 : #Just the joint angle (or velocity?)\n",
    "                DATUM.append(k)\n",
    "    return DATUM\n",
    "\n",
    "def get_joint_states_hand_only(robot, numJoints):\n",
    "    DATUM = []\n",
    "    joint_states = p.getJointStates(robot,range(numJoints),physicsClientId=physicsClient)   #0 to 20::: 4 are fixed\n",
    "    for jno, j in enumerate(joint_states):\n",
    "        if jno in [16,17,18,19,20, 25,26,27,28,29, 34,35,36,37,38, 43,44,45,46,47]:  # what is this about (may be for kuka bot)? \n",
    "            #print(jno)\n",
    "            for quadruple, k in enumerate(j):\n",
    "                if quadruple == 2:\n",
    "                    for l in k:\n",
    "                        DATUM.append(l)\n",
    "                else:\n",
    "                    DATUM.append(k)\n",
    "    return DATUM\n",
    "\n",
    "\n"
   ]
  },
  {
   "cell_type": "code",
   "execution_count": 30,
   "id": "42b607b1",
   "metadata": {},
   "outputs": [],
   "source": [
    "kuka_arh_joints=[16,17,18,19,20, 25,26,27,28,29, 34,35,36,37,38, 43,44,45,46,47]\n",
    "# print(len(k))"
   ]
  },
  {
   "cell_type": "code",
   "execution_count": 33,
   "id": "bb8c75ec",
   "metadata": {},
   "outputs": [
    {
     "name": "stdout",
     "output_type": "stream",
     "text": [
      "(16, b'index_joint_0', 0, 14, 13, 1, 1.0, 0.0, -0.59, 0.57, 15.0, 7.0, b'index_link_0', (0.0, 0.0, 1.0), (0.0, 0.0435, -0.001542), (0.043619387340501414, 0.0, 0.0, 0.9990482215829422), 15)\n",
      "(17, b'index_joint_1', 0, 15, 14, 1, 1.0, 0.0, -0.296, 1.71, 15.0, 7.0, b'index_link_1', (0.0, 1.0, 0.0), (0.0, 0.0, 0.0164), (0.0, 0.0, 0.0, 1.0), 16)\n",
      "(18, b'index_joint_2', 0, 16, 15, 1, 1.0, 0.0, -0.274, 1.809, 15.0, 7.0, b'index_link_2', (0.0, 1.0, 0.0), (0.0, 0.0, 0.054), (0.0, 0.0, 0.0, 1.0), 17)\n",
      "(19, b'index_joint_3', 0, 17, 16, 1, 10.0, 0.0, -0.327, 1.718, 15.0, 7.0, b'index_link_3', (0.0, 1.0, 0.0), (0.0, 0.0, 0.0384), (0.0, 0.0, 0.0, 1.0), 18)\n",
      "(20, b'index_tip_joint', 4, -1, -1, 0, 0.0, 0.0, 0.0, -1.0, 0.0, 0.0, b'index_tip', (0.0, 0.0, 0.0), (0.008, 0.0, 0.04), (0.0, 0.0, 0.0, 1.0), 19)\n",
      "(25, b'middle_joint_0', 0, 18, 17, 1, 1.0, 0.0, -0.59, 0.57, 15.0, 7.0, b'middle_link_0', (0.0, 0.0, 1.0), (0.0, 0.0, 0.0007), (0.0, 0.0, 0.0, 1.0), 15)\n",
      "(26, b'middle_joint_1', 0, 19, 18, 1, 1.0, 0.0, -0.296, 1.71, 15.0, 7.0, b'middle_link_1', (0.0, 1.0, 0.0), (0.0, 0.0, 0.0164), (0.0, 0.0, 0.0, 1.0), 25)\n",
      "(27, b'middle_joint_2', 0, 20, 19, 1, 1.0, 0.0, -0.274, 1.809, 15.0, 7.0, b'middle_link_2', (0.0, 1.0, 0.0), (0.0, 0.0, 0.054), (0.0, 0.0, 0.0, 1.0), 26)\n",
      "(28, b'middle_joint_3', 0, 21, 20, 1, 10.0, 0.0, -0.327, 1.718, 15.0, 7.0, b'middle_link_3', (0.0, 1.0, 0.0), (0.0, 0.0, 0.0384), (0.0, 0.0, 0.0, 1.0), 27)\n",
      "(29, b'middle_tip_joint', 4, -1, -1, 0, 0.0, 0.0, 0.0, -1.0, 0.0, 0.0, b'middle_tip', (0.0, 0.0, 0.0), (0.008, 0.0, 0.04), (0.0, 0.0, 0.0, 1.0), 28)\n",
      "(34, b'ring_joint_0', 0, 22, 21, 1, 1.0, 0.0, -0.59, 0.57, 15.0, 7.0, b'ring_link_0', (0.0, 0.0, 1.0), (0.0, -0.0435, -0.001542), (-0.043619387340501414, 0.0, 0.0, 0.9990482215829422), 15)\n",
      "(35, b'ring_joint_1', 0, 23, 22, 1, 1.0, 0.0, -0.296, 1.71, 15.0, 7.0, b'ring_link_1', (0.0, 1.0, 0.0), (0.0, 0.0, 0.0164), (0.0, 0.0, 0.0, 1.0), 34)\n",
      "(36, b'ring_joint_2', 0, 24, 23, 1, 1.0, 0.0, -0.274, 1.809, 15.0, 7.0, b'ring_link_2', (0.0, 1.0, 0.0), (0.0, 0.0, 0.054), (0.0, 0.0, 0.0, 1.0), 35)\n",
      "(37, b'ring_joint_3', 0, 25, 24, 1, 10.0, 0.0, -0.327, 1.718, 15.0, 7.0, b'ring_link_3', (0.0, 1.0, 0.0), (0.0, 0.0, 0.0384), (0.0, 0.0, 0.0, 1.0), 36)\n",
      "(38, b'ring_tip_joint', 4, -1, -1, 0, 0.0, 0.0, 0.0, -1.0, 0.0, 0.0, b'ring_tip', (0.0, 0.0, 0.0), (0.008, 0.0, 0.04), (0.0, 0.0, 0.0, 1.0), 37)\n",
      "(43, b'thumb_joint_0', 0, 26, 25, 1, 1.0, 0.0, 0.363, 1.62, 15.0, 7.0, b'thumb_link_0', (-1.0, 0.0, 0.0), (-0.0182, 0.022333, -0.045987), (0.48001262303780556, 0.5596121448178956, 0.43985053082849085, 0.5127900541416291), 15)\n",
      "(44, b'thumb_joint_1', 0, 27, 26, 1, 1.0, 0.0, -0.205, 1.263, 15.0, 7.0, b'thumb_link_1', (0.0, 0.0, 1.0), (-0.027, 0.005, 0.0399), (0.0, 0.0, 0.0, 1.0), 43)\n",
      "(45, b'thumb_joint_2', 0, 28, 27, 1, 1.0, 0.0, -0.289, 1.744, 15.0, 7.0, b'thumb_link_2', (0.0, 1.0, 0.0), (0.0, 0.0, 0.0177), (0.0, 0.0, 0.0, 1.0), 44)\n",
      "(46, b'thumb_joint_3', 0, 29, 28, 1, 1.0, 0.0, -0.262, 1.819, 15.0, 7.0, b'thumb_link_3', (0.0, 1.0, 0.0), (0.0, 0.0, 0.051), (0.0, 0.0, 0.0, 1.0), 45)\n",
      "(47, b'thumb_end_link_3', 4, -1, -1, 0, 0.0, 0.0, 0.0, -1.0, 0.0, 0.0, b'thumb_link_3_offset', (0.0, 0.0, 0.0), (0.0, 0.0, 0.015), (0.0, 0.0, 0.0, 1.0), 46)\n"
     ]
    }
   ],
   "source": [
    "for current_joint in range(len(kuka_arh_joints)):\n",
    "    KukaJointInfo_hand_only=p.getJointInfo(\n",
    "        bodyUniqueId=kuka_allegro_hand_biotac,\n",
    "    jointIndex=kuka_arh_joints[current_joint])\n",
    "    print(KukaJointInfo_hand_only)"
   ]
  },
  {
   "cell_type": "code",
   "execution_count": 26,
   "id": "e9464e4e",
   "metadata": {},
   "outputs": [],
   "source": [
    "planeId = p.loadURDF(\"plane.urdf\")\n",
    "kuka_allegro_hand_biotac = p.loadURDF(\"ll4ma_robots_description/robots/kuka-allegro-biotac.urdf\")\n",
    "\n",
    "StartPos_arh=[0.5,0.5,0]\n",
    "arhId=p.loadURDF(r\"models/end_effector/left.urdf\",StartPos_arh)\n",
    "\n",
    "# set constraints\n",
    "p.createConstraint(parentBodyUniqueId=arhId,\n",
    "                   parentLinkIndex=-1,\n",
    "                   childBodyUniqueId=-1,\n",
    "                   childLinkIndex=0,\n",
    "                   jointType=p.JOINT_FIXED,\n",
    "                   jointAxis=[0, 0, 0],\n",
    "                   parentFramePosition=[0, 0, 0],\n",
    "                   childFramePosition=[0, 0, 0],\n",
    "                   parentFrameOrientation=[0, 0, 0, 1],\n",
    "                   childFrameOrientation=[0, 0, 0, 1])\n",
    "\n",
    "\n",
    "for j in range(p.getNumJoints(kuka_allegro_hand_biotac)):\n",
    "    p.enableJointForceTorqueSensor(kuka_allegro_hand_biotac, j, enableSensor=1)\n",
    "for j in range(p.getNumJoints(arhId)):\n",
    "    p.enableJointForceTorqueSensor(arhId, j, enableSensor=1)\n",
    " "
   ]
  },
  {
   "cell_type": "code",
   "execution_count": 34,
   "id": "0fe44a48",
   "metadata": {},
   "outputs": [
    {
     "name": "stdout",
     "output_type": "stream",
     "text": [
      "21\n"
     ]
    }
   ],
   "source": [
    "numJoints_kuka = p.getNumJoints(kuka_allegro_hand_biotac)\n",
    "numJoints_arh=p.getNumJoints(arhId)\n",
    "print(numJoints_arh)\n",
    "Kuka_movable_joints={}\n"
   ]
  },
  {
   "cell_type": "code",
   "execution_count": 12,
   "id": "7799e7ec",
   "metadata": {},
   "outputs": [
    {
     "name": "stdout",
     "output_type": "stream",
     "text": [
      "{2: {'Name': b'lbr4_j0', 'jointLowerLimit': 2.879}, 3: {'Name': b'lbr4_j1', 'jointLowerLimit': 2.007}, 4: {'Name': b'lbr4_j2', 'jointLowerLimit': 2.879}, 5: {'Name': b'lbr4_j3', 'jointLowerLimit': 2.007}, 6: {'Name': b'lbr4_j4', 'jointLowerLimit': 2.879}, 7: {'Name': b'lbr4_j5', 'jointLowerLimit': 2.007}, 8: {'Name': b'lbr4_j6', 'jointLowerLimit': 2.879}, 16: {'Name': b'index_joint_0', 'jointLowerLimit': 0.57}, 17: {'Name': b'index_joint_1', 'jointLowerLimit': 1.71}, 18: {'Name': b'index_joint_2', 'jointLowerLimit': 1.809}, 19: {'Name': b'index_joint_3', 'jointLowerLimit': 1.718}, 25: {'Name': b'middle_joint_0', 'jointLowerLimit': 0.57}, 26: {'Name': b'middle_joint_1', 'jointLowerLimit': 1.71}, 27: {'Name': b'middle_joint_2', 'jointLowerLimit': 1.809}, 28: {'Name': b'middle_joint_3', 'jointLowerLimit': 1.718}, 34: {'Name': b'ring_joint_0', 'jointLowerLimit': 0.57}, 35: {'Name': b'ring_joint_1', 'jointLowerLimit': 1.71}, 36: {'Name': b'ring_joint_2', 'jointLowerLimit': 1.809}, 37: {'Name': b'ring_joint_3', 'jointLowerLimit': 1.718}, 43: {'Name': b'thumb_joint_0', 'jointLowerLimit': 1.62}, 44: {'Name': b'thumb_joint_1', 'jointLowerLimit': 1.263}, 45: {'Name': b'thumb_joint_2', 'jointLowerLimit': 1.744}, 46: {'Name': b'thumb_joint_3', 'jointLowerLimit': 1.819}}\n"
     ]
    }
   ],
   "source": [
    "for current_joint in range(numJoints_kuka):\n",
    "    KukaJointInfo=p.getJointInfo(\n",
    "        bodyUniqueId=kuka_allegro_hand_biotac,\n",
    "    jointIndex=current_joint)\n",
    "    if KukaJointInfo[2]!=4: # non fixed joints \n",
    "        Kuka_movable_joints[current_joint]={\"Name\":KukaJointInfo[1], \n",
    "                                            \"jointLowerLimit\":KukaJointInfo[8], # 8 lower limit\n",
    "                                            \"jointLowerLimit\":KukaJointInfo[9]} # 9 upper limit\n",
    "\n",
    "#         print(f\"joint info of joint {current_joint}: \\n {KukaJointInfo[2]} \\n ################### end ################\")\n",
    "print(Kuka_movable_joints)"
   ]
  },
  {
   "cell_type": "code",
   "execution_count": 28,
   "id": "9e214225",
   "metadata": {},
   "outputs": [
    {
     "data": {
      "text/plain": [
       "(0.0, 0.0, (0.0, 0.0, 0.0, 0.0, 0.0, 0.0), 0.0)"
      ]
     },
     "execution_count": 28,
     "metadata": {},
     "output_type": "execute_result"
    }
   ],
   "source": [
    "p.getJointState(bodyUniqueId=arhId,\n",
    "                jointIndex=16)"
   ]
  },
  {
   "cell_type": "code",
   "execution_count": null,
   "id": "10524010",
   "metadata": {},
   "outputs": [],
   "source": []
  },
  {
   "cell_type": "code",
   "execution_count": null,
   "id": "cf8f8c68",
   "metadata": {},
   "outputs": [],
   "source": [
    "# p.setRealTimeSimulation(1)"
   ]
  },
  {
   "cell_type": "code",
   "execution_count": 35,
   "id": "18de94bf",
   "metadata": {},
   "outputs": [],
   "source": [
    "from datetime import datetime\n",
    "p.setGravity(0,0,-9.8)\n",
    "\n",
    "\n",
    "#reset\n",
    "p.changeDynamics(kuka_allegro_hand_biotac,-1, lateralFriction=0.5)\n",
    "p.changeDynamics(kuka_allegro_hand_biotac,-1, rollingFriction=0.5)\n",
    "joint_cmd = [0 for _ in range(numJoints_kuka)]\n",
    "p.setJointMotorControlArray(kuka_allegro_hand_biotac, range(numJoints_kuka), p.POSITION_CONTROL,  targetPositions=joint_cmd)\n",
    "#RECORD 1ST FROM HERE\n",
    "time.sleep(5)# event is reset position\n",
    "save_to_csv(FILENAME,['RESET_POSITION',datetime.now().time() ]+get_joint_states_hand_only(kuka_allegro_hand_biotac, numJoints),'a')\n",
    "\n"
   ]
  },
  {
   "cell_type": "code",
   "execution_count": null,
   "id": "264c320e",
   "metadata": {},
   "outputs": [],
   "source": [
    "time.sleep(5)\n",
    "for _ in range(100):\n",
    "    pass\n",
    "#     save_to_csv(FILENAME,['STEADY_AFTER_ACHIEVING_RESET_POSITION',datetime.datetime.now().time() ]+get_joint_states_hand_only( kuka_allegro_hand_biotac, numJoints),'a')\n"
   ]
  },
  {
   "cell_type": "code",
   "execution_count": null,
   "id": "7564c22d",
   "metadata": {},
   "outputs": [],
   "source": [
    "cube_big = p.loadSoftBody(\"ball.obj\", simFileName = \"ball.vtk\", basePosition =  [-1.03,-0.03, 0.5], scale = 0.5, mass = 4, useNeoHookean = 1 , NeoHookeanMu = 700, NeoHookeanLambda = 800, NeoHookeanDamping = 0.01, useSelfCollision = 1, frictionCoeff = .5, collisionMargin = 0.01)\n",
    "p.setTimeStep(1/240.)\n",
    "p.changeDynamics(cube_big,-1, lateralFriction=0.5)"
   ]
  },
  {
   "cell_type": "code",
   "execution_count": 39,
   "id": "e8daddd3",
   "metadata": {},
   "outputs": [],
   "source": [
    "import math\n",
    "# for i in range(15+1):\n",
    "#     ang=-i *np.pi/180\n",
    "#     joint_cmd[5] = ang\n",
    "#     print(i)\n",
    "#     print(ang)\n",
    "#     print(math.degrees(ang))\n",
    "\n",
    "#     p.setJointMotorControlArray(kuka_allegro_hand_biotac, range(53), p.POSITION_CONTROL,  targetPositions=joint_cmd)\n",
    "#     time.sleep(1/20.)"
   ]
  },
  {
   "cell_type": "code",
   "execution_count": null,
   "id": "c2617ec1",
   "metadata": {},
   "outputs": [],
   "source": [
    "for i in range(15+1):\n",
    "    joint_cmd[5] = -i *np.pi/180\n",
    "    p.setJointMotorControlArray(kuka_allegro_hand_biotac, range(53), p.POSITION_CONTROL,  targetPositions=joint_cmd)\n",
    "    time.sleep(1/20.)\n",
    "\n",
    "for i in range(12+1):\n",
    "    joint_cmd[7] = -i *np.pi/180\n",
    "    p.setJointMotorControlArray(kuka_allegro_hand_biotac, range(53), p.POSITION_CONTROL,  targetPositions=joint_cmd)\n",
    "\n",
    "for i in range(90+1):\n",
    "    joint_cmd[3] = i *np.pi/180\n",
    "    p.setJointMotorControlArray(kuka_allegro_hand_biotac, range(53), p.POSITION_CONTROL,  targetPositions=joint_cmd)\n",
    "    time.sleep(1/20.)\n",
    "\n",
    "    "
   ]
  },
  {
   "cell_type": "code",
   "execution_count": null,
   "id": "806b9105",
   "metadata": {},
   "outputs": [],
   "source": [
    "\n",
    "for i in range(15+1):\n",
    "    joint_cmd[5] = -i *np.pi/180\n",
    "    p.setJointMotorControlArray(kuka_allegro_hand_biotac, range(53), p.POSITION_CONTROL,  targetPositions=joint_cmd)\n",
    "    time.sleep(1/20.)\n",
    "\n",
    "for i in range(12+1):\n",
    "    joint_cmd[7] = -i *np.pi/180\n",
    "    p.setJointMotorControlArray(kuka_allegro_hand_biotac, range(53), p.POSITION_CONTROL,  targetPositions=joint_cmd)\n",
    "\n",
    "for i in range(90+1):\n",
    "    joint_cmd[3] = i *np.pi/180\n",
    "    p.setJointMotorControlArray(kuka_allegro_hand_biotac, range(53), p.POSITION_CONTROL,  targetPositions=joint_cmd)\n",
    "    time.sleep(1/20.)\n",
    "\n",
    "    "
   ]
  },
  {
   "cell_type": "code",
   "execution_count": null,
   "id": "da67d02c",
   "metadata": {},
   "outputs": [],
   "source": [
    "\n",
    "\n",
    "save_to_csv(FILENAME,['INITIALIZE_REACHING',datetime.datetime.now().time() ]+get_joint_states_hand_only( kuka_allegro_hand_biotac, numJoints),'a')\n",
    "\n",
    "\n",
    "for i in range(15+1):\n",
    "    joint_cmd[5] = -i *np.pi/180\n",
    "    p.setJointMotorControlArray(kuka_allegro_hand_biotac, range(53), p.POSITION_CONTROL,  targetPositions=joint_cmd)\n",
    "    time.sleep(1/20.)\n",
    "\n",
    "for i in range(12+1):\n",
    "    joint_cmd[7] = -i *np.pi/180\n",
    "    p.setJointMotorControlArray(kuka_allegro_hand_biotac, range(53), p.POSITION_CONTROL,  targetPositions=joint_cmd)\n",
    "\n",
    "for i in range(90+1):\n",
    "    joint_cmd[3] = i *np.pi/180\n",
    "    p.setJointMotorControlArray(kuka_allegro_hand_biotac, range(53), p.POSITION_CONTROL,  targetPositions=joint_cmd)\n",
    "    time.sleep(1/20.)\n",
    "\n",
    "    \n",
    "save_to_csv(FILENAME,['FINISHED_REACHING',datetime.now().time() ]+get_joint_states_hand_only( kuka_allegro_hand_biotac, numJoints),'a')\n",
    "\n",
    "\n",
    "    \n",
    "\n",
    "save_to_csv(FILENAME,['INITIALIZE_GRASPING',datetime.now().time() ]+get_joint_states_hand_only( kuka_allegro_hand_biotac, numJoints),'a')\n",
    "\n",
    "#THUMB\n",
    "joint_cmd[43]= 90 * np.pi/180\n",
    "joint_cmd[45]= 5 * np.pi/180\n",
    "joint_cmd[46]= 10 * np.pi/180\n",
    "\n",
    "#INDEX_UNGERS\n",
    "joint_cmd[17]= 40 * np.pi/180    \n",
    "joint_cmd[18]= 40 * np.pi/180    \n",
    "joint_cmd[19]= 20 * np.pi/180 \n",
    "#joint_cmd[19]= 5 * np.pi/180 \n",
    "\n",
    "\n",
    "# MIDDLE_FINGER\n",
    "joint_cmd[26]= 40 * np.pi/180\n",
    "joint_cmd[27]= 40 * np.pi/180\n",
    "joint_cmd[28]= 20 * np.pi/180 \n",
    "#joint_cmd[28]= 5 * np.pi/180\n",
    "\n",
    "\n",
    "\n",
    "# PINKY FINGER\n",
    "joint_cmd[35]= 40 * np.pi/180\n",
    "joint_cmd[36]= 40 * np.pi/180\n",
    "joint_cmd[37]= 20 * np.pi/180"
   ]
  },
  {
   "cell_type": "code",
   "execution_count": null,
   "id": "414fe9cf",
   "metadata": {},
   "outputs": [],
   "source": [
    "\n",
    "#THUMB\n",
    "joint_cmd[43]= 90 * np.pi/180\n",
    "joint_cmd[45]= 5 * np.pi/180\n",
    "joint_cmd[46]= 10 * np.pi/180\n",
    "\n",
    "#INDEX_UNGERS\n",
    "joint_cmd[17]= 40 * np.pi/180    \n",
    "joint_cmd[18]= 40 * np.pi/180    \n",
    "joint_cmd[19]= 20 * np.pi/180 \n",
    "#joint_cmd[19]= 5 * np.pi/180 \n",
    "\n",
    "\n",
    "# MIDDLE_FINGER\n",
    "joint_cmd[26]= 40 * np.pi/180\n",
    "joint_cmd[27]= 40 * np.pi/180\n",
    "joint_cmd[28]= 20 * np.pi/180 \n",
    "#joint_cmd[28]= 5 * np.pi/180\n",
    "\n",
    "\n",
    "\n",
    "# PINKY FINGER\n",
    "joint_cmd[35]= 40 * np.pi/180\n",
    "joint_cmd[36]= 40 * np.pi/180\n",
    "joint_cmd[37]= 20 * np.pi/180"
   ]
  },
  {
   "cell_type": "code",
   "execution_count": null,
   "id": "2dc7d9b4",
   "metadata": {},
   "outputs": [],
   "source": [
    "\n",
    "p.setJointMotorControlArray(kuka_allegro_hand_biotac, range(53), p.POSITION_CONTROL,  targetPositions=joint_cmd)\n",
    "time.sleep(1/20.)\n",
    "# save_to_csv(FILENAME,['FINISHED_GRASPING',datetime.now().time() ]+get_joint_states_hand_only( kuka_allegro_hand_biotac, numJoints),'a')\n",
    "time.sleep(5)\n",
    "\n",
    "\n",
    "for _ in range(100):\n",
    "    save_to_csv(FILENAME,['STEADY_AFTER_FINISHED_GRASPING',datetime.now().time() ]+get_joint_states_hand_only( kuka_allegro_hand_biotac, numJoints),'a')\n",
    "\n"
   ]
  },
  {
   "cell_type": "code",
   "execution_count": null,
   "id": "d2042458",
   "metadata": {},
   "outputs": [],
   "source": [
    "\n",
    "\n",
    "\n",
    "# PICKUP\n",
    "angles = get_joint_angles(kuka_allegro_hand_biotac,53)\n",
    "\n",
    "T = 100\n",
    "delta = 0.01\n",
    "t=0\n",
    "save_to_csv(FILENAME,['INITIALIZE_PICKUP',datetime.now().time() ]+get_joint_states_hand_only( kuka_allegro_hand_biotac, numJoints),'a')\n",
    "grav = 0\n",
    "\n",
    "save_to_csv(\"trajectory_cube.csv\",[\"Timestamp\",\"Pos_Xaxis\",\"Pos_Yaxis\",\"Pos_Zaxis\",\"Or_Xaxis\",\"Or_Yaxis\",\"Or_Zaxis\"], \"w\")\n",
    "\n",
    "while t < T:\n",
    "    cubePos, cubeOrn= p.getBasePositionAndOrientation(cube_big)\n",
    "    #print(cubePos, cubeOrn)\n",
    "    x_time = datetime.now().time()\n",
    "    joint_cmd[3] = joint_cmd[3] - delta\n",
    "    joint_cmd[5] = joint_cmd[5] - delta\n",
    "    \n",
    "    ## joint based\n",
    "    #joint_cmd[7] = joint_cmd[7] + delta\n",
    "    #joint_cmd[46] = joint_cmd [46] - 0.1* delta\n",
    "    #joint_cmd[19] = joint_cmd[19] - 10*delta\n",
    "    #NO SLIPPINMG\n",
    "    #joint_cmd[28] = joint_cmd[19] - 0.099*delta\n",
    "\n",
    "    \n",
    "\n",
    "    # mouse based\n",
    "\n",
    "    p.setJointMotorControlArray(kuka_allegro_hand_biotac, range(53), p.POSITION_CONTROL,  targetPositions=joint_cmd)\n",
    "    time.sleep(1/50.)\n",
    "    save_to_csv(\"trajectory_cube_noslip.csv\",[x_time,cubePos[0],cubePos[1],cubePos[2],cubeOrn[0],cubeOrn[1],cubeOrn[2]])\n",
    "    save_to_csv(FILENAME,['PICKUP_IN_PROGRESS',x_time ]+get_joint_states_hand_only( kuka_allegro_hand_biotac, numJoints),'a')\n",
    "    t += 1\n",
    "    \n",
    "\n",
    "\n",
    "save_to_csv(FILENAME,['END',datetime.now().time() ]+get_joint_states_hand_only( kuka_allegro_hand_biotac, numJoints),'a')\n",
    "\n",
    "    \n",
    "\"\"\"    \n",
    "for i in range(15+1):\n",
    "    joint_cmd[7] = -i *np.pi/180\n",
    "    p.setJointMotorControlArray(kuka_allegro_hand_biotac, range(53), p.POSITION_CONTROL,  targetPositions=joint_cmd)\n",
    "    \n",
    "for i in range(15+1):\n",
    "    joint_cmd[5] = -i *np.pi/180\n",
    "    p.setJointMotorControlArray(kuka_allegro_hand_biotac, range(53), p.POSITION_CONTROL,  targetPositions=joint_cmd)\n",
    "\n",
    "for i in range(90+1):\n",
    "    joint_cmd[3] = i *np.pi/180\n",
    "    p.setJointMotorControlArray(kuka_allegro_hand_biotac, range(53), p.POSITION_CONTROL,  targetPositions=joint_cmd)\n",
    "\n",
    "\"\"\""
   ]
  },
  {
   "cell_type": "code",
   "execution_count": null,
   "id": "51fddfdb",
   "metadata": {},
   "outputs": [],
   "source": []
  }
 ],
 "metadata": {
  "kernelspec": {
   "display_name": "Python 3 (ipykernel)",
   "language": "python",
   "name": "python3"
  },
  "language_info": {
   "codemirror_mode": {
    "name": "ipython",
    "version": 3
   },
   "file_extension": ".py",
   "mimetype": "text/x-python",
   "name": "python",
   "nbconvert_exporter": "python",
   "pygments_lexer": "ipython3",
   "version": "3.10.9"
  }
 },
 "nbformat": 4,
 "nbformat_minor": 5
}
